{
 "cells": [
  {
   "cell_type": "markdown",
   "id": "0c40942c-eba6-4085-99b7-7c3bf86a318b",
   "metadata": {},
   "source": [
    "# Indexing Sequences"
   ]
  },
  {
   "cell_type": "markdown",
   "id": "0cc031a8-a499-4d9e-ab3e-f2177d5424e6",
   "metadata": {},
   "source": [
    "this is a test"
   ]
  },
  {
   "cell_type": "code",
   "execution_count": null,
   "id": "02366211-bf15-40f6-8a5c-b8fcd2c71c8a",
   "metadata": {},
   "outputs": [],
   "source": []
  }
 ],
 "metadata": {
  "kernelspec": {
   "display_name": "Python 3 (ipykernel)",
   "language": "python",
   "name": "python3"
  },
  "language_info": {
   "codemirror_mode": {
    "name": "ipython",
    "version": 3
   },
   "file_extension": ".py",
   "mimetype": "text/x-python",
   "name": "python",
   "nbconvert_exporter": "python",
   "pygments_lexer": "ipython3",
   "version": "3.8.13"
  }
 },
 "nbformat": 4,
 "nbformat_minor": 5
}
