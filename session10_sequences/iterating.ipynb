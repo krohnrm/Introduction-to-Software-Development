{
 "cells": [
  {
   "cell_type": "markdown",
   "id": "28069922-7aa4-45a5-a452-44080b62d489",
   "metadata": {},
   "source": [
    "# Iterating Sequences"
   ]
  },
  {
   "cell_type": "markdown",
   "id": "a7318fd7-7f2d-4023-b486-04c22ccad225",
   "metadata": {},
   "source": [
    "this is a test"
   ]
  },
  {
   "cell_type": "code",
   "execution_count": null,
   "id": "b0822238-bd58-4ad8-8bdd-fb3685134148",
   "metadata": {},
   "outputs": [],
   "source": []
  }
 ],
 "metadata": {
  "kernelspec": {
   "display_name": "Python 3 (ipykernel)",
   "language": "python",
   "name": "python3"
  },
  "language_info": {
   "codemirror_mode": {
    "name": "ipython",
    "version": 3
   },
   "file_extension": ".py",
   "mimetype": "text/x-python",
   "name": "python",
   "nbconvert_exporter": "python",
   "pygments_lexer": "ipython3",
   "version": "3.8.13"
  }
 },
 "nbformat": 4,
 "nbformat_minor": 5
}
