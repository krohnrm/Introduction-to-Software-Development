{
 "cells": [
  {
   "cell_type": "markdown",
   "id": "dc116b2c-7b97-4aff-b019-2073d323c9b2",
   "metadata": {},
   "source": [
    "# Range Expressions and Sequences"
   ]
  },
  {
   "cell_type": "markdown",
   "id": "8445f75f-982d-4c85-bf59-8926df132656",
   "metadata": {},
   "source": [
    "this is a test"
   ]
  },
  {
   "cell_type": "code",
   "execution_count": null,
   "id": "a8612133-e4ec-4ca8-a25a-6085d743524d",
   "metadata": {},
   "outputs": [],
   "source": []
  }
 ],
 "metadata": {
  "kernelspec": {
   "display_name": "Python 3 (ipykernel)",
   "language": "python",
   "name": "python3"
  },
  "language_info": {
   "codemirror_mode": {
    "name": "ipython",
    "version": 3
   },
   "file_extension": ".py",
   "mimetype": "text/x-python",
   "name": "python",
   "nbconvert_exporter": "python",
   "pygments_lexer": "ipython3",
   "version": "3.8.13"
  }
 },
 "nbformat": 4,
 "nbformat_minor": 5
}
